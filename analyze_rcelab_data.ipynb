{
 "cells": [
  {
   "cell_type": "markdown",
   "metadata": {},
   "source": [
    "# RCE_Lab Result"
   ]
  },
  {
   "cell_type": "code",
   "execution_count": 1,
   "metadata": {},
   "outputs": [],
   "source": [
    "from utils import *\n",
    "from sklearn.metrics import confusion_matrix"
   ]
  },
  {
   "cell_type": "code",
   "execution_count": 2,
   "metadata": {},
   "outputs": [],
   "source": [
    "manalyze_result = load_nested_json(\"manalyze_result_rcelab.jsonl\", process_manalyze_result)\n",
    "pypacker_result = load_nested_json(\"pypacker_result_rcelab.jsonl\", process_pypacker)\n",
    "pypeid_result   = load_nested_json(\"pypeid_result_rcelab.jsonl\", process_peid)"
   ]
  },
  {
   "cell_type": "code",
   "execution_count": 3,
   "metadata": {},
   "outputs": [],
   "source": [
    "df = pd.merge(pd.merge(pypacker_result, pypeid_result, on=\"name\"), manalyze_result)"
   ]
  },
  {
   "cell_type": "code",
   "execution_count": 4,
   "metadata": {},
   "outputs": [
    {
     "data": {
      "text/html": [
       "<div>\n",
       "<style scoped>\n",
       "    .dataframe tbody tr th:only-of-type {\n",
       "        vertical-align: middle;\n",
       "    }\n",
       "\n",
       "    .dataframe tbody tr th {\n",
       "        vertical-align: top;\n",
       "    }\n",
       "\n",
       "    .dataframe thead th {\n",
       "        text-align: right;\n",
       "    }\n",
       "</style>\n",
       "<table border=\"1\" class=\"dataframe\">\n",
       "  <thead>\n",
       "    <tr style=\"text-align: right;\">\n",
       "      <th></th>\n",
       "      <th>name</th>\n",
       "      <th>pypacker_suspicions</th>\n",
       "      <th>pypacker_detections</th>\n",
       "      <th>peid_packed</th>\n",
       "      <th>peid_PEiD</th>\n",
       "      <th>manalyze_result_level</th>\n",
       "      <th>manalyze_result_output</th>\n",
       "    </tr>\n",
       "  </thead>\n",
       "  <tbody>\n",
       "    <tr>\n",
       "      <th>0</th>\n",
       "      <td>/home/nanoha/chome/Desktop/RCE_Lab_bins/!EP (E...</td>\n",
       "      <td>[]</td>\n",
       "      <td>[Entry point 0x6b0ff in irregular section(s): ...</td>\n",
       "      <td>True</td>\n",
       "      <td>[AHPack_V01_FEUERRADER, AHpack_01_FEUERRADER_h...</td>\n",
       "      <td>2.0</td>\n",
       "      <td>[Section .text is both writable and executable...</td>\n",
       "    </tr>\n",
       "    <tr>\n",
       "      <th>1</th>\n",
       "      <td>/home/nanoha/chome/Desktop/RCE_Lab_bins/!EP (E...</td>\n",
       "      <td>[]</td>\n",
       "      <td>[Entry point 0xb3000 in irregular section(s): ...</td>\n",
       "      <td>True</td>\n",
       "      <td>[]</td>\n",
       "      <td>2.0</td>\n",
       "      <td>[Unusual section name found:, Section  is both...</td>\n",
       "    </tr>\n",
       "    <tr>\n",
       "      <th>2</th>\n",
       "      <td>/home/nanoha/chome/Desktop/RCE_Lab_bins/!EProt...</td>\n",
       "      <td>[]</td>\n",
       "      <td>[Entry point 0x6b010 in irregular section(s): ...</td>\n",
       "      <td>False</td>\n",
       "      <td>[AHTeam_EP_Protector_03_fake_PCGuard_403_415_F...</td>\n",
       "      <td>2.0</td>\n",
       "      <td>[Unusual section name found: !eprot]</td>\n",
       "    </tr>\n",
       "    <tr>\n",
       "      <th>3</th>\n",
       "      <td>/home/nanoha/chome/Desktop/RCE_Lab_bins/.NET R...</td>\n",
       "      <td>[]</td>\n",
       "      <td>[]</td>\n",
       "      <td>True</td>\n",
       "      <td>[Microsoft_Visual_Cpp_v50v60_MFC]</td>\n",
       "      <td>NaN</td>\n",
       "      <td>None</td>\n",
       "    </tr>\n",
       "    <tr>\n",
       "      <th>4</th>\n",
       "      <td>/home/nanoha/chome/Desktop/RCE_Lab_bins/123111...</td>\n",
       "      <td>[]</td>\n",
       "      <td>[Entry point 0x692b0 in irregular section(s): ...</td>\n",
       "      <td>True</td>\n",
       "      <td>[bambam_V004_bedrock, DragonArmor_Orient_addit...</td>\n",
       "      <td>2.0</td>\n",
       "      <td>[Unusual section name found: Xiao, The PE only...</td>\n",
       "    </tr>\n",
       "  </tbody>\n",
       "</table>\n",
       "</div>"
      ],
      "text/plain": [
       "                                                name pypacker_suspicions  \\\n",
       "0  /home/nanoha/chome/Desktop/RCE_Lab_bins/!EP (E...                  []   \n",
       "1  /home/nanoha/chome/Desktop/RCE_Lab_bins/!EP (E...                  []   \n",
       "2  /home/nanoha/chome/Desktop/RCE_Lab_bins/!EProt...                  []   \n",
       "3  /home/nanoha/chome/Desktop/RCE_Lab_bins/.NET R...                  []   \n",
       "4  /home/nanoha/chome/Desktop/RCE_Lab_bins/123111...                  []   \n",
       "\n",
       "                                 pypacker_detections  peid_packed  \\\n",
       "0  [Entry point 0x6b0ff in irregular section(s): ...         True   \n",
       "1  [Entry point 0xb3000 in irregular section(s): ...         True   \n",
       "2  [Entry point 0x6b010 in irregular section(s): ...        False   \n",
       "3                                                 []         True   \n",
       "4  [Entry point 0x692b0 in irregular section(s): ...         True   \n",
       "\n",
       "                                           peid_PEiD  manalyze_result_level  \\\n",
       "0  [AHPack_V01_FEUERRADER, AHpack_01_FEUERRADER_h...                    2.0   \n",
       "1                                                 []                    2.0   \n",
       "2  [AHTeam_EP_Protector_03_fake_PCGuard_403_415_F...                    2.0   \n",
       "3                  [Microsoft_Visual_Cpp_v50v60_MFC]                    NaN   \n",
       "4  [bambam_V004_bedrock, DragonArmor_Orient_addit...                    2.0   \n",
       "\n",
       "                              manalyze_result_output  \n",
       "0  [Section .text is both writable and executable...  \n",
       "1  [Unusual section name found:, Section  is both...  \n",
       "2               [Unusual section name found: !eprot]  \n",
       "3                                               None  \n",
       "4  [Unusual section name found: Xiao, The PE only...  "
      ]
     },
     "execution_count": 4,
     "metadata": {},
     "output_type": "execute_result"
    }
   ],
   "source": [
    "df.head()"
   ]
  },
  {
   "cell_type": "code",
   "execution_count": 5,
   "metadata": {},
   "outputs": [],
   "source": [
    "def process_pypacker_detection_reason(msg):\n",
    "    return [PyPackerDetectionReason.msg_to_enum(i) for i in msg if PyPackerDetectionReason.msg_to_enum(i)] if msg else []\n",
    "\n",
    "def process_manalyze_detection_reason(msg):\n",
    "    return [ManalyzeDetectionReason.msg_to_enum(i) for i in msg if ManalyzeDetectionReason.msg_to_enum(i)] if msg else []\n",
    "\n",
    "df[\"pypacker_reason\"] = df[\"pypacker_suspicions\"].apply(lambda x: process_pypacker_detection_reason(x)) + df[\"pypacker_detections\"].apply(lambda x: process_pypacker_detection_reason(x))\n",
    "df[\"manalyze_reason\"] = df[\"manalyze_result_output\"].apply(lambda x: process_manalyze_detection_reason(x))"
   ]
  },
  {
   "cell_type": "code",
   "execution_count": 6,
   "metadata": {},
   "outputs": [],
   "source": [
    "df[\"pypacker_packed\"] = df[\"pypacker_reason\"].apply(lambda x: len(x) != 0) | df[\"pypacker_reason\"].apply(lambda x: len(x) != 0)\n",
    "df[\"manalyze_packed\"] = df[\"manalyze_reason\"].apply(lambda x: len(x) != 0 if x else False)\n",
    "df[\"pypacker_manalyze_packed\"] = df[\"pypacker_packed\"] | df[\"manalyze_packed\"]\n",
    "df[\"peid_packed_by_sign\"] = df[\"peid_PEiD\"].apply(lambda x: len(x) != 0)"
   ]
  },
  {
   "cell_type": "code",
   "execution_count": 7,
   "metadata": {},
   "outputs": [
    {
     "name": "stdout",
     "output_type": "stream",
     "text": [
      "peid_packed 0.826311263972485\n",
      "pypacker_manalyze_peid_packed 0.9587274290627688\n",
      "pypacker_peid_packed 0.9509888220120378\n",
      "manalyze_peid_packed 0.9518486672398968\n"
     ]
    }
   ],
   "source": [
    "# comparison of detection coverage among PEiD, PyPacker, and Manalyze\n",
    "print(\"peid_packed\", df[\"peid_packed\"].sum() / len(df)) # result of PEiD\n",
    "print(\"pypacker_manalyze_peid_packed\", (df[\"peid_packed\"] | df[\"pypacker_manalyze_packed\"]).sum() / len(df)) # result of Manalyze | PEiD | PyPacker\n",
    "print(\"pypacker_peid_packed\", (df[\"peid_packed\"] | df[\"pypacker_packed\"]).sum() / len(df)) # result of PEiD | PyPacker\n",
    "print(\"manalyze_peid_packed\", (df[\"peid_packed\"] | df[\"manalyze_packed\"]).sum() / len(df)) # result of PEiD | Maalyze"
   ]
  },
  {
   "cell_type": "markdown",
   "metadata": {},
   "source": [
    "# Result\n",
    "- We improve the detection coverage by combining PyPacker, Manalyze, and PEiD (83% -> 96%)."
   ]
  },
  {
   "cell_type": "code",
   "execution_count": 8,
   "metadata": {},
   "outputs": [],
   "source": [
    "df[\"peid_not_packed_pypacker_packed\"] = ~df[\"peid_packed\"] & df[\"pypacker_packed\"] # detected as \"not-packed\" by PEiD, detected as \"packed\" by PyPacker\n",
    "df[\"peid_not_packed_manalyze_packed\"] = ~df[\"peid_packed\"] & df[\"manalyze_packed\"] # detected as \"not-packed\" by PEiD, detected as \"packed\" by Manalyze"
   ]
  },
  {
   "cell_type": "code",
   "execution_count": 9,
   "metadata": {},
   "outputs": [],
   "source": [
    "from collections import defaultdict\n",
    "\n",
    "def flatten_list(l):\n",
    "    result = list()\n",
    "    for i in l:\n",
    "        result += i\n",
    "    return result\n",
    "\n",
    "def calc_hist(l):\n",
    "    d = defaultdict(int)\n",
    "    for i in l:\n",
    "        d[i] += 1\n",
    "    return d"
   ]
  },
  {
   "cell_type": "code",
   "execution_count": 10,
   "metadata": {},
   "outputs": [
    {
     "data": {
      "text/plain": [
       "defaultdict(int,\n",
       "            {<PyPackerDetectionReason.BAD_ENTRY_POINT: 4>: 151,\n",
       "             <PyPackerDetectionReason.NONSTANDARD_SECTIONNAME: 2>: 77,\n",
       "             <PyPackerDetectionReason.SECTION_NAME_IS_KNOWN: 3>: 65})"
      ]
     },
     "execution_count": 10,
     "metadata": {},
     "output_type": "execute_result"
    }
   ],
   "source": [
    "# detection reason (PyPacker)\n",
    "calc_hist(flatten_list(list(df[df[\"peid_not_packed_pypacker_packed\"]][\"pypacker_reason\"])))"
   ]
  },
  {
   "cell_type": "code",
   "execution_count": 11,
   "metadata": {},
   "outputs": [
    {
     "data": {
      "text/plain": [
       "defaultdict(int,\n",
       "            {<ManalyzeDetectionReason.UNUSUAL_SECTION_NAME: 1>: 415,\n",
       "             <ManalyzeDetectionReason.BROKEN_RITCH_HEADER: 5>: 4})"
      ]
     },
     "execution_count": 11,
     "metadata": {},
     "output_type": "execute_result"
    }
   ],
   "source": [
    "# detection reason (Manalyze)\n",
    "calc_hist(flatten_list(list(df[df[\"peid_not_packed_manalyze_packed\"]][\"manalyze_reason\"])))"
   ]
  }
 ],
 "metadata": {
  "kernelspec": {
   "display_name": "Python 3",
   "language": "python",
   "name": "python3"
  },
  "language_info": {
   "codemirror_mode": {
    "name": "ipython",
    "version": 3
   },
   "file_extension": ".py",
   "mimetype": "text/x-python",
   "name": "python",
   "nbconvert_exporter": "python",
   "pygments_lexer": "ipython3",
   "version": "3.6.8"
  }
 },
 "nbformat": 4,
 "nbformat_minor": 4
}
