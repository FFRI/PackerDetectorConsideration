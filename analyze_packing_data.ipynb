{
 "cells": [
  {
   "cell_type": "markdown",
   "metadata": {},
   "source": [
    "# Comparison of TPR and FPR among three packer detection tools (PyPackerDetect, Manalyze, and pypeid)"
   ]
  },
  {
   "cell_type": "code",
   "execution_count": 1,
   "metadata": {},
   "outputs": [],
   "source": [
    "from utils import *\n",
    "from sklearn.metrics import confusion_matrix"
   ]
  },
  {
   "cell_type": "code",
   "execution_count": 2,
   "metadata": {},
   "outputs": [],
   "source": [
    "manalyze_result_packed = load_nested_json(\"manalyze_result_packingdata_packed.jsonl\", process_manalyze_result)\n",
    "pypacker_result_packed = load_nested_json(\"pypacker_result_packingdata_packed.jsonl\", process_pypacker)\n",
    "pypeid_result_packed = load_nested_json(\"pypeid_result_packingdata_packed.jsonl\", process_peid)"
   ]
  },
  {
   "cell_type": "code",
   "execution_count": 3,
   "metadata": {},
   "outputs": [],
   "source": [
    "df_packed = pd.merge(pd.merge(manalyze_result_packed, pypacker_result_packed, on=\"name\"), pypeid_result_packed, on=\"name\")"
   ]
  },
  {
   "cell_type": "code",
   "execution_count": 4,
   "metadata": {},
   "outputs": [],
   "source": [
    "manalyze_result_nonpacked = load_nested_json(\"manalyze_result_packingdata_nonpacked.jsonl\", process_manalyze_result)\n",
    "pypacker_result_nonpacked = load_nested_json(\"pypacker_result_packingdata_nonpacked.jsonl\", process_pypacker)\n",
    "pypeid_result_nonpacked = load_nested_json(\"pypeid_result_packingdata_nonpacked.jsonl\", process_peid)"
   ]
  },
  {
   "cell_type": "code",
   "execution_count": 5,
   "metadata": {},
   "outputs": [
    {
     "data": {
      "text/html": [
       "<div>\n",
       "<style scoped>\n",
       "    .dataframe tbody tr th:only-of-type {\n",
       "        vertical-align: middle;\n",
       "    }\n",
       "\n",
       "    .dataframe tbody tr th {\n",
       "        vertical-align: top;\n",
       "    }\n",
       "\n",
       "    .dataframe thead th {\n",
       "        text-align: right;\n",
       "    }\n",
       "</style>\n",
       "<table border=\"1\" class=\"dataframe\">\n",
       "  <thead>\n",
       "    <tr style=\"text-align: right;\">\n",
       "      <th></th>\n",
       "      <th>name</th>\n",
       "      <th>manalyze_result_level</th>\n",
       "      <th>manalyze_result_output</th>\n",
       "      <th>manalyze_result_summary</th>\n",
       "      <th>pypacker_suspicions</th>\n",
       "      <th>pypacker_detections</th>\n",
       "      <th>peid_packed</th>\n",
       "      <th>peid_PEiD</th>\n",
       "    </tr>\n",
       "  </thead>\n",
       "  <tbody>\n",
       "    <tr>\n",
       "      <th>0</th>\n",
       "      <td>/home/ffri/WorkDir/FFRIDataset/PackerDetectorC...</td>\n",
       "      <td>NaN</td>\n",
       "      <td>None</td>\n",
       "      <td>None</td>\n",
       "      <td>[]</td>\n",
       "      <td>[]</td>\n",
       "      <td>False</td>\n",
       "      <td>[Armadillo_v171, Microsoft_Visual_Cpp_v60, Mic...</td>\n",
       "    </tr>\n",
       "    <tr>\n",
       "      <th>1</th>\n",
       "      <td>/home/ffri/WorkDir/FFRIDataset/PackerDetectorC...</td>\n",
       "      <td>NaN</td>\n",
       "      <td>None</td>\n",
       "      <td>None</td>\n",
       "      <td>[]</td>\n",
       "      <td>[]</td>\n",
       "      <td>False</td>\n",
       "      <td>[Armadillo_v171, Microsoft_Visual_Cpp_v60, Mic...</td>\n",
       "    </tr>\n",
       "    <tr>\n",
       "      <th>2</th>\n",
       "      <td>/home/ffri/WorkDir/FFRIDataset/PackerDetectorC...</td>\n",
       "      <td>NaN</td>\n",
       "      <td>None</td>\n",
       "      <td>None</td>\n",
       "      <td>[]</td>\n",
       "      <td>[]</td>\n",
       "      <td>False</td>\n",
       "      <td>[Armadillo_v171, Microsoft_Visual_Cpp_v60, Mic...</td>\n",
       "    </tr>\n",
       "    <tr>\n",
       "      <th>3</th>\n",
       "      <td>/home/ffri/WorkDir/FFRIDataset/PackerDetectorC...</td>\n",
       "      <td>NaN</td>\n",
       "      <td>None</td>\n",
       "      <td>None</td>\n",
       "      <td>[]</td>\n",
       "      <td>[]</td>\n",
       "      <td>False</td>\n",
       "      <td>[VC8_Microsoft_Corporation, Microsoft_Visual_C...</td>\n",
       "    </tr>\n",
       "    <tr>\n",
       "      <th>4</th>\n",
       "      <td>/home/ffri/WorkDir/FFRIDataset/PackerDetectorC...</td>\n",
       "      <td>NaN</td>\n",
       "      <td>None</td>\n",
       "      <td>None</td>\n",
       "      <td>[]</td>\n",
       "      <td>[]</td>\n",
       "      <td>False</td>\n",
       "      <td>[]</td>\n",
       "    </tr>\n",
       "  </tbody>\n",
       "</table>\n",
       "</div>"
      ],
      "text/plain": [
       "                                                name  manalyze_result_level  \\\n",
       "0  /home/ffri/WorkDir/FFRIDataset/PackerDetectorC...                    NaN   \n",
       "1  /home/ffri/WorkDir/FFRIDataset/PackerDetectorC...                    NaN   \n",
       "2  /home/ffri/WorkDir/FFRIDataset/PackerDetectorC...                    NaN   \n",
       "3  /home/ffri/WorkDir/FFRIDataset/PackerDetectorC...                    NaN   \n",
       "4  /home/ffri/WorkDir/FFRIDataset/PackerDetectorC...                    NaN   \n",
       "\n",
       "  manalyze_result_output manalyze_result_summary pypacker_suspicions  \\\n",
       "0                   None                    None                  []   \n",
       "1                   None                    None                  []   \n",
       "2                   None                    None                  []   \n",
       "3                   None                    None                  []   \n",
       "4                   None                    None                  []   \n",
       "\n",
       "  pypacker_detections  peid_packed  \\\n",
       "0                  []        False   \n",
       "1                  []        False   \n",
       "2                  []        False   \n",
       "3                  []        False   \n",
       "4                  []        False   \n",
       "\n",
       "                                           peid_PEiD  \n",
       "0  [Armadillo_v171, Microsoft_Visual_Cpp_v60, Mic...  \n",
       "1  [Armadillo_v171, Microsoft_Visual_Cpp_v60, Mic...  \n",
       "2  [Armadillo_v171, Microsoft_Visual_Cpp_v60, Mic...  \n",
       "3  [VC8_Microsoft_Corporation, Microsoft_Visual_C...  \n",
       "4                                                 []  "
      ]
     },
     "execution_count": 5,
     "metadata": {},
     "output_type": "execute_result"
    }
   ],
   "source": [
    "df_nonpacked = pd.merge(pd.merge(manalyze_result_nonpacked, pypacker_result_nonpacked, on=\"name\"), pypeid_result_nonpacked, on=\"name\")\n",
    "df_nonpacked.head()"
   ]
  },
  {
   "cell_type": "code",
   "execution_count": 6,
   "metadata": {},
   "outputs": [],
   "source": [
    "make_detection_reasons_columns(df_nonpacked)\n",
    "make_detection_reasons_columns(df_packed)"
   ]
  },
  {
   "cell_type": "code",
   "execution_count": 7,
   "metadata": {},
   "outputs": [],
   "source": [
    "df_nonpacked[\"pypacker_packed\"] = df_nonpacked[\"pypacker_reason\"].apply(lambda x: len(x) != 0)\n",
    "df_nonpacked[\"manalyze_packed\"] = df_nonpacked[\"manalyze_reason\"].apply(lambda x: len(x) != 0 if x else False)"
   ]
  },
  {
   "cell_type": "code",
   "execution_count": 8,
   "metadata": {},
   "outputs": [],
   "source": [
    "df_packed[\"pypacker_packed\"] = df_packed[\"pypacker_reason\"].apply(lambda x: len(x) != 0)\n",
    "df_packed[\"manalyze_packed\"] = df_packed[\"manalyze_reason\"].apply(lambda x: len(x) != 0 if x else False)"
   ]
  },
  {
   "cell_type": "code",
   "execution_count": 9,
   "metadata": {},
   "outputs": [],
   "source": [
    "def is_packed(flags):\n",
    "    for flag in flags:\n",
    "        if flag in (ManalyzeDetectionReason.KNOWN_SECTION_NAME, ManalyzeDetectionReason.BROKEN_RESOURCE, ManalyzeDetectionReason.BROKEN_RITCH_HEADER, ManalyzeDetectionReason.SUMMARY_PACKED_KNOWN):\n",
    "            return True\n",
    "    return False\n",
    "\n",
    "df_packed[\"manalyze_packed_without_unusual_sect\"] = df_packed[\"manalyze_reason\"].apply(lambda x: is_packed(x))\n",
    "df_nonpacked[\"manalyze_packed_without_unusual_sect\"] = df_nonpacked[\"manalyze_reason\"].apply(lambda x: is_packed(x))"
   ]
  },
  {
   "cell_type": "code",
   "execution_count": 10,
   "metadata": {},
   "outputs": [
    {
     "name": "stdout",
     "output_type": "stream",
     "text": [
      "FPR (PyPackerDetect) 2.2271714922048997\n",
      "FPR (Manalyze)  40.97995545657015\n",
      "FPR (pypeid) 5.56792873051225\n"
     ]
    }
   ],
   "source": [
    "# FPR\n",
    "print(\"FPR (PyPackerDetect)\", df_nonpacked[\"pypacker_packed\"].sum() / len(df_nonpacked[\"pypacker_packed\"]) * 100.)\n",
    "print(\"FPR (Manalyze) \", df_nonpacked[\"manalyze_packed\"].sum() / len(df_nonpacked[\"manalyze_packed\"]) * 100.)\n",
    "print(\"FPR (pypeid)\", df_nonpacked[\"peid_packed\"].sum() / len(df_nonpacked[\"peid_packed\"]) * 100.0)"
   ]
  },
  {
   "cell_type": "code",
   "execution_count": 11,
   "metadata": {},
   "outputs": [
    {
     "name": "stdout",
     "output_type": "stream",
     "text": [
      "TPR (PyPackerDetect) 94.76110645431685\n",
      "TPR (Manalyze)  95.09639564124058\n",
      "TPR (pypeid) 84.87007544006705\n"
     ]
    }
   ],
   "source": [
    "# TPR\n",
    "print(\"TPR (PyPackerDetect)\", df_packed[\"pypacker_packed\"].sum() / len(df_packed[\"pypacker_packed\"]) * 100.)\n",
    "print(\"TPR (Manalyze) \", df_packed[\"manalyze_packed\"].sum() / len(df_packed[\"manalyze_packed\"]) * 100.)\n",
    "print(\"TPR (pypeid)\", df_packed[\"peid_packed\"].sum() / len(df_packed[\"peid_packed\"]) * 100.0)"
   ]
  },
  {
   "cell_type": "markdown",
   "metadata": {},
   "source": [
    "## Result\n",
    "- Recall is almost the same between PyPacker and Manalyze; its value is about 94%.\n",
    "- On the other hand, FPR was much lower when using PyPacker compared with Manalyze."
   ]
  },
  {
   "cell_type": "code",
   "execution_count": 12,
   "metadata": {},
   "outputs": [],
   "source": [
    "from collections import defaultdict\n",
    "\n",
    "def flatten_list(l):\n",
    "    result = list()\n",
    "    for i in l:\n",
    "        result += i\n",
    "    return result\n",
    "\n",
    "def calc_hist(l):\n",
    "    d = defaultdict(int)\n",
    "    for i in l:\n",
    "        d[i] += 1\n",
    "    return d"
   ]
  },
  {
   "cell_type": "code",
   "execution_count": 13,
   "metadata": {},
   "outputs": [
    {
     "data": {
      "text/plain": [
       "defaultdict(int,\n",
       "            {<PyPackerDetectionReason.BAD_ENTRY_POINT: 4>: 5,\n",
       "             <PyPackerDetectionReason.NONSTANDARD_SECTIONNAME: 2>: 1,\n",
       "             <PyPackerDetectionReason.SECTION_NAME_IS_KNOWN: 3>: 9})"
      ]
     },
     "execution_count": 13,
     "metadata": {},
     "output_type": "execute_result"
    }
   ],
   "source": [
    "# Detection reasons of PyPackerDetect for false-positive samples\n",
    "calc_hist(flatten_list(list(df_nonpacked[df_nonpacked[\"pypacker_packed\"]][\"pypacker_reason\"])))"
   ]
  },
  {
   "cell_type": "code",
   "execution_count": 14,
   "metadata": {},
   "outputs": [
    {
     "data": {
      "text/plain": [
       "defaultdict(int,\n",
       "            {<ManalyzeDetectionReason.UNUSUAL_SECTION_NAME: 1>: 190,\n",
       "             <ManalyzeDetectionReason.SUMMARY_PACKED_KNOWN: 7>: 11,\n",
       "             <ManalyzeDetectionReason.BROKEN_RITCH_HEADER: 5>: 5})"
      ]
     },
     "execution_count": 14,
     "metadata": {},
     "output_type": "execute_result"
    }
   ],
   "source": [
    "# Detection reasons of Manalyze for false-positive samples\n",
    "calc_hist(flatten_list(list(df_nonpacked[df_nonpacked[\"manalyze_packed\"]][\"manalyze_reason\"])))"
   ]
  },
  {
   "cell_type": "markdown",
   "metadata": {},
   "source": [
    "## Analysis of detection reasons of two packer detection tools for FP samples\n",
    "- FPs in both PyPacker and Manalyze are mainly caused by \"unusual section names\".\n",
    "  - About 98% of FPs in Manalyze\n",
    "- FP can be reduced by excluding cases where the reason is \"unusual section names\".\n",
    "  - FP can be reduced to about 1.1% for both Manalyze and PyPackeur\n",
    "  - But, note that excluding \"unusual section names\" rule could reduce the TPR."
   ]
  },
  {
   "cell_type": "code",
   "execution_count": 15,
   "metadata": {},
   "outputs": [
    {
     "name": "stdout",
     "output_type": "stream",
     "text": [
      "FPR (Manalyze, 'unusual section names' reason is excluded) 2.4498886414253898\n",
      "TPR (Manalyze, 'unusual section names' reason is excluded) 47.02430846605197\n"
     ]
    }
   ],
   "source": [
    "# Result for TPR and FPR for manalyze when the \"unusual section names\" detection reason is excluded\n",
    "print(\"FPR (Manalyze, 'unusual section names' reason is excluded)\", df_nonpacked[\"manalyze_packed_without_unusual_sect\"].sum() / len(df_nonpacked[\"manalyze_packed_without_unusual_sect\"]) * 100.)\n",
    "print(\"TPR (Manalyze, 'unusual section names' reason is excluded)\", df_packed[\"manalyze_packed_without_unusual_sect\"].sum() / len(df_packed[\"manalyze_packed_without_unusual_sect\"]) * 100.)"
   ]
  },
  {
   "cell_type": "markdown",
   "metadata": {},
   "source": [
    "- When \"unusual section names\" is not included in Manalyze, FP can be very small, while TP drops to about 1 %.\n",
    "- PyPackerDetect has a larger coverage of the \"unusual section names\" rule compared with Manalyze."
   ]
  }
 ],
 "metadata": {
  "kernelspec": {
   "display_name": "Python 3",
   "language": "python",
   "name": "python3"
  },
  "language_info": {
   "codemirror_mode": {
    "name": "ipython",
    "version": 3
   },
   "file_extension": ".py",
   "mimetype": "text/x-python",
   "name": "python",
   "nbconvert_exporter": "python",
   "pygments_lexer": "ipython3",
   "version": "3.8.6"
  }
 },
 "nbformat": 4,
 "nbformat_minor": 4
}
